{
  "nbformat": 4,
  "nbformat_minor": 0,
  "metadata": {
    "colab": {
      "name": "TrabalhoM1.2.ipynb",
      "provenance": [],
      "collapsed_sections": [],
      "include_colab_link": true
    },
    "kernelspec": {
      "name": "python3",
      "display_name": "Python 3"
    }
  },
  "cells": [
    {
      "cell_type": "markdown",
      "metadata": {
        "id": "view-in-github",
        "colab_type": "text"
      },
      "source": [
        "<a href=\"https://colab.research.google.com/github/Langelange/IntComp/blob/main/TrabalhoM1_2.ipynb\" target=\"_parent\"><img src=\"https://colab.research.google.com/assets/colab-badge.svg\" alt=\"Open In Colab\"/></a>"
      ]
    },
    {
      "cell_type": "markdown",
      "metadata": {
        "id": "YRsyM3rV3VN9"
      },
      "source": [
        "# TrabalhoM1.2\n",
        "\n",
        "---\n",
        "\n"
      ]
    },
    {
      "cell_type": "code",
      "source": [
        "import numpy as np\n",
        "import os\n",
        "\n",
        "m1 = [[\"X\", \"X\", \"X\", \"X\", \"X\", \"X\", \"X\", \"X\"],\n",
        "      [\"X\", \"X\", \"X\", \"X\", \"X\", \"X\", \"X\", \"X\"], \n",
        "      [\"X\", \"X\", \"X\", \"X\", \"X\", \"X\", \"X\", \"X\"],\n",
        "      [\"X\", \"X\", \"X\", \"X\", \"X\", \"X\", \"X\", \"X\"],\n",
        "      [\"X\", \"X\", \"X\", \"X\", \"X\", \"X\", \"X\", \"X\"],\n",
        "      [\"X\", \"X\", \"X\", \"X\", \"X\", \"X\", \"X\", \"X\"], \n",
        "      [\"X\", \"X\", \"X\", \"X\", \"X\", \"X\", \"X\", \"X\"],\n",
        "      [\"X\", \"X\", \"X\", \"X\", \"X\", \"X\", \"X\", \"X\"]]\n",
        "    \n",
        "m2 = [[\"B\", \"1\", \"0\", \"1\", \"1\", \"2\", \"2\", \"B\"],\n",
        "      [\"1\", \"2\", \"2\", \"3\", \"B\", \"2\", \"B\", \"2\"], \n",
        "      [\"0\", \"1\", \"B\", \"B\", \"3\", \"3\", \"2\", \"1\"], \n",
        "      [\"0\", \"2\", \"3\", \"3\", \"2\", \"B\", \"2\", \"1\"],\n",
        "      [\"1\", \"2\", \"B\", \"2\", \"2\", \"3\", \"3\", \"B\"],\n",
        "      [\"B\", \"3\", \"2\", \"1\", \"B\", \"2\", \"B\", \"3\"], \n",
        "      [\"2\", \"B\", \"2\", \"2\", \"2\", \"2\", \"2\", \"B\"], \n",
        "      [\"1\", \"1\", \"2\", \"B\", \"1\", \"0\", \"1\", \"1\"]]\n",
        "\n",
        "m3 = [[\"B\", \"X\", \"X\", \"X\", \"X\", \"X\", \"X\", \"B\"],\n",
        "      [\"X\", \"X\", \"X\", \"X\", \"B\", \"X\", \"B\", \"X\"], \n",
        "      [\"X\", \"X\", \"B\", \"B\", \"X\", \"X\", \"X\", \"X\"], \n",
        "      [\"X\", \"X\", \"X\", \"X\", \"X\", \"B\", \"X\", \"X\"],\n",
        "      [\"X\", \"X\", \"B\", \"X\", \"X\", \"X\", \"X\", \"B\"],\n",
        "      [\"B\", \"X\", \"X\", \"X\", \"B\", \"X\", \"B\", \"X\"], \n",
        "      [\"X\", \"B\", \"X\", \"X\", \"X\", \"X\", \"X\", \"B\"], \n",
        "      [\"X\", \"X\", \"X\", \"X\", \"X\", \"X\", \"X\", \"X\"]]\n",
        "\n",
        "def InicioJogo(m1):\n",
        "  print (np.matrix(m1))\n",
        "\n",
        "InicioJogo(m1)\n",
        "\n",
        "def Acesso(lin,col,k):\n",
        "\n",
        "  if m2[lin][col] == \"B\":\n",
        "    return \"GO\"\n",
        "  \n",
        "  m1[lin][col] = m2[lin][col]\n",
        "  m3[lin][col] = m2[lin][col]\n",
        "  k+=1\n",
        "\n",
        "k=0\n",
        "while k < 50:\n",
        "  lin = int(input(\"Informe a linha de entrada: \"))\n",
        "  col = int(input(\"Informe a coluna de entrada: \"))\n",
        "\n",
        "  lin-=1\n",
        "  col-=1\n",
        "\n",
        "  print(\"Jogada nº\",k)\n",
        "\n",
        "  Acesso(lin,col,k)\n",
        "  if Acesso(lin,col,k) == \"GO\":\n",
        "    print(\"Você perdeu!\")\n",
        "    print(np.matrix(m3))\n",
        "    break\n",
        "  \n",
        "  print(np.matrix(m1))\n",
        "  os.system(\"cls\")\n",
        "  \n",
        "print(\"Você Ganhou!\")\n",
        "print(np.matrix(m3))\n",
        "\n",
        "\n"
      ],
      "metadata": {
        "colab": {
          "base_uri": "https://localhost:8080/",
          "height": 1000
        },
        "id": "9_oh2p1cz-nU",
        "outputId": "a52cdb8d-51fe-4812-9da8-b6de8258b780"
      },
      "execution_count": null,
      "outputs": [
        {
          "output_type": "stream",
          "name": "stdout",
          "text": [
            "[['X' 'X' 'X' 'X' 'X' 'X' 'X' 'X']\n",
            " ['X' 'X' 'X' 'X' 'X' 'X' 'X' 'X']\n",
            " ['X' 'X' 'X' 'X' 'X' 'X' 'X' 'X']\n",
            " ['X' 'X' 'X' 'X' 'X' 'X' 'X' 'X']\n",
            " ['X' 'X' 'X' 'X' 'X' 'X' 'X' 'X']\n",
            " ['X' 'X' 'X' 'X' 'X' 'X' 'X' 'X']\n",
            " ['X' 'X' 'X' 'X' 'X' 'X' 'X' 'X']\n",
            " ['X' 'X' 'X' 'X' 'X' 'X' 'X' 'X']]\n",
            "Informe a linha de entrada: 1\n",
            "Informe a coluna de entrada: 2\n",
            "Jogada nº 0\n",
            "[['X' '1' 'X' 'X' 'X' 'X' 'X' 'X']\n",
            " ['X' 'X' 'X' 'X' 'X' 'X' 'X' 'X']\n",
            " ['X' 'X' 'X' 'X' 'X' 'X' 'X' 'X']\n",
            " ['X' 'X' 'X' 'X' 'X' 'X' 'X' 'X']\n",
            " ['X' 'X' 'X' 'X' 'X' 'X' 'X' 'X']\n",
            " ['X' 'X' 'X' 'X' 'X' 'X' 'X' 'X']\n",
            " ['X' 'X' 'X' 'X' 'X' 'X' 'X' 'X']\n",
            " ['X' 'X' 'X' 'X' 'X' 'X' 'X' 'X']]\n",
            "Informe a linha de entrada: 1\n",
            "Informe a coluna de entrada: 3\n",
            "Jogada nº 0\n",
            "[['X' '1' '0' 'X' 'X' 'X' 'X' 'X']\n",
            " ['X' 'X' 'X' 'X' 'X' 'X' 'X' 'X']\n",
            " ['X' 'X' 'X' 'X' 'X' 'X' 'X' 'X']\n",
            " ['X' 'X' 'X' 'X' 'X' 'X' 'X' 'X']\n",
            " ['X' 'X' 'X' 'X' 'X' 'X' 'X' 'X']\n",
            " ['X' 'X' 'X' 'X' 'X' 'X' 'X' 'X']\n",
            " ['X' 'X' 'X' 'X' 'X' 'X' 'X' 'X']\n",
            " ['X' 'X' 'X' 'X' 'X' 'X' 'X' 'X']]\n"
          ]
        },
        {
          "output_type": "error",
          "ename": "KeyboardInterrupt",
          "evalue": "ignored",
          "traceback": [
            "\u001b[0;31m---------------------------------------------------------------------------\u001b[0m",
            "\u001b[0;31mKeyboardInterrupt\u001b[0m                         Traceback (most recent call last)",
            "\u001b[0;32m/usr/local/lib/python3.7/dist-packages/ipykernel/kernelbase.py\u001b[0m in \u001b[0;36m_input_request\u001b[0;34m(self, prompt, ident, parent, password)\u001b[0m\n\u001b[1;32m    728\u001b[0m             \u001b[0;32mtry\u001b[0m\u001b[0;34m:\u001b[0m\u001b[0;34m\u001b[0m\u001b[0;34m\u001b[0m\u001b[0m\n\u001b[0;32m--> 729\u001b[0;31m                 \u001b[0mident\u001b[0m\u001b[0;34m,\u001b[0m \u001b[0mreply\u001b[0m \u001b[0;34m=\u001b[0m \u001b[0mself\u001b[0m\u001b[0;34m.\u001b[0m\u001b[0msession\u001b[0m\u001b[0;34m.\u001b[0m\u001b[0mrecv\u001b[0m\u001b[0;34m(\u001b[0m\u001b[0mself\u001b[0m\u001b[0;34m.\u001b[0m\u001b[0mstdin_socket\u001b[0m\u001b[0;34m,\u001b[0m \u001b[0;36m0\u001b[0m\u001b[0;34m)\u001b[0m\u001b[0;34m\u001b[0m\u001b[0;34m\u001b[0m\u001b[0m\n\u001b[0m\u001b[1;32m    730\u001b[0m             \u001b[0;32mexcept\u001b[0m \u001b[0mException\u001b[0m\u001b[0;34m:\u001b[0m\u001b[0;34m\u001b[0m\u001b[0;34m\u001b[0m\u001b[0m\n",
            "\u001b[0;32m/usr/local/lib/python3.7/dist-packages/jupyter_client/session.py\u001b[0m in \u001b[0;36mrecv\u001b[0;34m(self, socket, mode, content, copy)\u001b[0m\n\u001b[1;32m    802\u001b[0m         \u001b[0;32mtry\u001b[0m\u001b[0;34m:\u001b[0m\u001b[0;34m\u001b[0m\u001b[0;34m\u001b[0m\u001b[0m\n\u001b[0;32m--> 803\u001b[0;31m             \u001b[0mmsg_list\u001b[0m \u001b[0;34m=\u001b[0m \u001b[0msocket\u001b[0m\u001b[0;34m.\u001b[0m\u001b[0mrecv_multipart\u001b[0m\u001b[0;34m(\u001b[0m\u001b[0mmode\u001b[0m\u001b[0;34m,\u001b[0m \u001b[0mcopy\u001b[0m\u001b[0;34m=\u001b[0m\u001b[0mcopy\u001b[0m\u001b[0;34m)\u001b[0m\u001b[0;34m\u001b[0m\u001b[0;34m\u001b[0m\u001b[0m\n\u001b[0m\u001b[1;32m    804\u001b[0m         \u001b[0;32mexcept\u001b[0m \u001b[0mzmq\u001b[0m\u001b[0;34m.\u001b[0m\u001b[0mZMQError\u001b[0m \u001b[0;32mas\u001b[0m \u001b[0me\u001b[0m\u001b[0;34m:\u001b[0m\u001b[0;34m\u001b[0m\u001b[0;34m\u001b[0m\u001b[0m\n",
            "\u001b[0;32m/usr/local/lib/python3.7/dist-packages/zmq/sugar/socket.py\u001b[0m in \u001b[0;36mrecv_multipart\u001b[0;34m(self, flags, copy, track)\u001b[0m\n\u001b[1;32m    624\u001b[0m         \"\"\"\n\u001b[0;32m--> 625\u001b[0;31m         \u001b[0mparts\u001b[0m \u001b[0;34m=\u001b[0m \u001b[0;34m[\u001b[0m\u001b[0mself\u001b[0m\u001b[0;34m.\u001b[0m\u001b[0mrecv\u001b[0m\u001b[0;34m(\u001b[0m\u001b[0mflags\u001b[0m\u001b[0;34m,\u001b[0m \u001b[0mcopy\u001b[0m\u001b[0;34m=\u001b[0m\u001b[0mcopy\u001b[0m\u001b[0;34m,\u001b[0m \u001b[0mtrack\u001b[0m\u001b[0;34m=\u001b[0m\u001b[0mtrack\u001b[0m\u001b[0;34m)\u001b[0m\u001b[0;34m]\u001b[0m\u001b[0;34m\u001b[0m\u001b[0;34m\u001b[0m\u001b[0m\n\u001b[0m\u001b[1;32m    626\u001b[0m         \u001b[0;31m# have first part already, only loop while more to receive\u001b[0m\u001b[0;34m\u001b[0m\u001b[0;34m\u001b[0m\u001b[0;34m\u001b[0m\u001b[0m\n",
            "\u001b[0;32mzmq/backend/cython/socket.pyx\u001b[0m in \u001b[0;36mzmq.backend.cython.socket.Socket.recv\u001b[0;34m()\u001b[0m\n",
            "\u001b[0;32mzmq/backend/cython/socket.pyx\u001b[0m in \u001b[0;36mzmq.backend.cython.socket.Socket.recv\u001b[0;34m()\u001b[0m\n",
            "\u001b[0;32mzmq/backend/cython/socket.pyx\u001b[0m in \u001b[0;36mzmq.backend.cython.socket._recv_copy\u001b[0;34m()\u001b[0m\n",
            "\u001b[0;32m/usr/local/lib/python3.7/dist-packages/zmq/backend/cython/checkrc.pxd\u001b[0m in \u001b[0;36mzmq.backend.cython.checkrc._check_rc\u001b[0;34m()\u001b[0m\n",
            "\u001b[0;31mKeyboardInterrupt\u001b[0m: ",
            "\nDuring handling of the above exception, another exception occurred:\n",
            "\u001b[0;31mKeyboardInterrupt\u001b[0m                         Traceback (most recent call last)",
            "\u001b[0;32m<ipython-input-3-e7d22b797293>\u001b[0m in \u001b[0;36m<module>\u001b[0;34m()\u001b[0m\n\u001b[1;32m     45\u001b[0m \u001b[0mk\u001b[0m\u001b[0;34m=\u001b[0m\u001b[0;36m0\u001b[0m\u001b[0;34m\u001b[0m\u001b[0;34m\u001b[0m\u001b[0m\n\u001b[1;32m     46\u001b[0m \u001b[0;32mwhile\u001b[0m \u001b[0mk\u001b[0m \u001b[0;34m<\u001b[0m \u001b[0;36m50\u001b[0m\u001b[0;34m:\u001b[0m\u001b[0;34m\u001b[0m\u001b[0;34m\u001b[0m\u001b[0m\n\u001b[0;32m---> 47\u001b[0;31m   \u001b[0mlin\u001b[0m \u001b[0;34m=\u001b[0m \u001b[0mint\u001b[0m\u001b[0;34m(\u001b[0m\u001b[0minput\u001b[0m\u001b[0;34m(\u001b[0m\u001b[0;34m\"Informe a linha de entrada: \"\u001b[0m\u001b[0;34m)\u001b[0m\u001b[0;34m)\u001b[0m\u001b[0;34m\u001b[0m\u001b[0;34m\u001b[0m\u001b[0m\n\u001b[0m\u001b[1;32m     48\u001b[0m   \u001b[0mcol\u001b[0m \u001b[0;34m=\u001b[0m \u001b[0mint\u001b[0m\u001b[0;34m(\u001b[0m\u001b[0minput\u001b[0m\u001b[0;34m(\u001b[0m\u001b[0;34m\"Informe a coluna de entrada: \"\u001b[0m\u001b[0;34m)\u001b[0m\u001b[0;34m)\u001b[0m\u001b[0;34m\u001b[0m\u001b[0;34m\u001b[0m\u001b[0m\n\u001b[1;32m     49\u001b[0m \u001b[0;34m\u001b[0m\u001b[0m\n",
            "\u001b[0;32m/usr/local/lib/python3.7/dist-packages/ipykernel/kernelbase.py\u001b[0m in \u001b[0;36mraw_input\u001b[0;34m(self, prompt)\u001b[0m\n\u001b[1;32m    702\u001b[0m             \u001b[0mself\u001b[0m\u001b[0;34m.\u001b[0m\u001b[0m_parent_ident\u001b[0m\u001b[0;34m,\u001b[0m\u001b[0;34m\u001b[0m\u001b[0;34m\u001b[0m\u001b[0m\n\u001b[1;32m    703\u001b[0m             \u001b[0mself\u001b[0m\u001b[0;34m.\u001b[0m\u001b[0m_parent_header\u001b[0m\u001b[0;34m,\u001b[0m\u001b[0;34m\u001b[0m\u001b[0;34m\u001b[0m\u001b[0m\n\u001b[0;32m--> 704\u001b[0;31m             \u001b[0mpassword\u001b[0m\u001b[0;34m=\u001b[0m\u001b[0;32mFalse\u001b[0m\u001b[0;34m,\u001b[0m\u001b[0;34m\u001b[0m\u001b[0;34m\u001b[0m\u001b[0m\n\u001b[0m\u001b[1;32m    705\u001b[0m         )\n\u001b[1;32m    706\u001b[0m \u001b[0;34m\u001b[0m\u001b[0m\n",
            "\u001b[0;32m/usr/local/lib/python3.7/dist-packages/ipykernel/kernelbase.py\u001b[0m in \u001b[0;36m_input_request\u001b[0;34m(self, prompt, ident, parent, password)\u001b[0m\n\u001b[1;32m    732\u001b[0m             \u001b[0;32mexcept\u001b[0m \u001b[0mKeyboardInterrupt\u001b[0m\u001b[0;34m:\u001b[0m\u001b[0;34m\u001b[0m\u001b[0;34m\u001b[0m\u001b[0m\n\u001b[1;32m    733\u001b[0m                 \u001b[0;31m# re-raise KeyboardInterrupt, to truncate traceback\u001b[0m\u001b[0;34m\u001b[0m\u001b[0;34m\u001b[0m\u001b[0;34m\u001b[0m\u001b[0m\n\u001b[0;32m--> 734\u001b[0;31m                 \u001b[0;32mraise\u001b[0m \u001b[0mKeyboardInterrupt\u001b[0m\u001b[0;34m\u001b[0m\u001b[0;34m\u001b[0m\u001b[0m\n\u001b[0m\u001b[1;32m    735\u001b[0m             \u001b[0;32melse\u001b[0m\u001b[0;34m:\u001b[0m\u001b[0;34m\u001b[0m\u001b[0;34m\u001b[0m\u001b[0m\n\u001b[1;32m    736\u001b[0m                 \u001b[0;32mbreak\u001b[0m\u001b[0;34m\u001b[0m\u001b[0;34m\u001b[0m\u001b[0m\n",
            "\u001b[0;31mKeyboardInterrupt\u001b[0m: "
          ]
        }
      ]
    }
  ]
}