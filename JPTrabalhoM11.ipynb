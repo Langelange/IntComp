{
  "nbformat": 4,
  "nbformat_minor": 0,
  "metadata": {
    "colab": {
      "name": "JPTrabalhoM11.ipynb",
      "provenance": [],
      "collapsed_sections": [],
      "include_colab_link": true
    },
    "kernelspec": {
      "name": "python3",
      "display_name": "Python 3"
    }
  },
  "cells": [
    {
      "cell_type": "markdown",
      "metadata": {
        "id": "view-in-github",
        "colab_type": "text"
      },
      "source": [
        "<a href=\"https://colab.research.google.com/github/Langelange/IntComp/blob/main/JPTrabalhoM11.ipynb\" target=\"_parent\"><img src=\"https://colab.research.google.com/assets/colab-badge.svg\" alt=\"Open In Colab\"/></a>"
      ]
    },
    {
      "cell_type": "markdown",
      "metadata": {
        "id": "YRsyM3rV3VN9"
      },
      "source": [
        "# Trabalho M1.1\n",
        "\n",
        "---\n",
        "\n"
      ]
    },
    {
      "cell_type": "markdown",
      "metadata": {
        "id": "1qz9G0gB-1Nz"
      },
      "source": [
        "### Problema 1\n",
        "\n",
        "---"
      ]
    },
    {
      "cell_type": "markdown",
      "metadata": {
        "id": "B9sFqd5Q-3Us"
      },
      "source": [
        "Um posto está vendendo combustíveis com a seguinte tabela de descontos:\n",
        "\n",
        "\n",
        "*   Álcool: até 20 litros, desconto de 3% por litro e acima de 20 litros, desconto de 5% por litro;\n",
        "*   Gasolina: até 20 litros, desconto de 4% por litro e acima de 20 litros, desconto\n",
        "de 6% por litro.\n",
        "\n",
        "Escreva um algoritmo que leia o número de litros vendidos, o tipo de\n",
        "combustível (A-álcool, G-gasolina) e imprima o valor a ser pago pelo cliente.\n",
        "Considere que o preço do litro da gasolina é 7,49 e o preço do litro do álcool é R$ 6,19. "
      ]
    },
    {
      "cell_type": "code",
      "metadata": {
        "id": "K8ansMRc-26b",
        "colab": {
          "base_uri": "https://localhost:8080/"
        },
        "outputId": "cd34f661-4391-46c4-8f13-6e2bc04c0625"
      },
      "source": [
        "op = str(input(\"Álcool (A) | Gasolina (G): \"))\n",
        "if op == \"A\":\n",
        "  print(\"Álcool\")\n",
        "  vol = float(input(\"Volume: \"))\n",
        "  if vol <= 20:\n",
        "    total = (6.19-6.19*0.03)*vol\n",
        "  else:\n",
        "    total = (6.19-6.19*0.05)*vol\n",
        "  print(\"Total(R$): \",total)\n",
        "elif op == \"G\":\n",
        "    print(\"Gasolina\")\n",
        "    vol = float(input(\"Volume: \"))\n",
        "    if vol <= 20:\n",
        "      total = (7.49-7.49*0.04)*vol\n",
        "    else:\n",
        "      total = (7.49-7.49*0.06)*vol\n",
        "    print(\"Total(R$): \",total)\n",
        "else:\n",
        "  print(\"Opção inválida!\")\n",
        "\n",
        "\n"
      ],
      "execution_count": null,
      "outputs": [
        {
          "output_type": "stream",
          "name": "stdout",
          "text": [
            "Álcool (A) | Gasolina (G): A\n",
            "Álcool\n",
            "Volume: 21\n",
            "Total(R$):  123.49050000000001\n"
          ]
        }
      ]
    },
    {
      "cell_type": "markdown",
      "metadata": {
        "id": "EzhgbRbg-3gb"
      },
      "source": [
        "### Problema 2\n",
        "\n",
        "---"
      ]
    },
    {
      "cell_type": "markdown",
      "metadata": {
        "id": "OkpnOoUD-2Qa"
      },
      "source": [
        "Escreva um algoritmo que solicite ao usuário um valor (total) em dinheiro, e informe a quantidade de notas de: 2 reais, 5 reais, 10 reais, 20 reais, 50 reais e 100 reais, e a quantidade de moedas de: 1 real, 50 centavos, 25 centavos, 10 centavos e 1 centavo que serão\n",
        "necessárias para compor este valor, de forma que seja utilizado o menor número de notas e moedas possível.\n"
      ]
    },
    {
      "cell_type": "code",
      "metadata": {
        "id": "355N0q58-3tS",
        "colab": {
          "base_uri": "https://localhost:8080/"
        },
        "outputId": "58d0dabe-4809-4f40-d108-b0d33096f5c1"
      },
      "source": [
        "total = float(input(\"Informe o valor: \"))\n",
        "if total >= 100:\n",
        "  notas100 = total // 100\n",
        "  total = total % 100\n",
        "  print(\"Notas de 100 reais: \",int(notas100))\n",
        "\n",
        "if (total < 100 and total >= 50):\n",
        "  notas50 = total // 50\n",
        "  total = total % 50\n",
        "  print(\"Notas de 50 reais: \",int(notas50))\n",
        "\n",
        "if (total < 50 and total >= 20):\n",
        "  notas20 = total // 20\n",
        "  total = total % 20\n",
        "  print(\"Notas de 20 reais: \",int(notas20))\n",
        "\n",
        "if (total < 20 and total >= 10):\n",
        "  notas10 = total // 10\n",
        "  total = total % 10\n",
        "  print(\"Notas de 10 reais: \",int(notas10))\n",
        "\n",
        "if (total < 10 and total >= 5):\n",
        "  notas5 = total // 5\n",
        "  total = total % 5\n",
        "  print(\"Notas de 5 reais: \",int(notas5))\n",
        "\n",
        "if (total < 5 and total >= 2):\n",
        "  notas2 = total // 2\n",
        "  total = total % 2\n",
        "  print(\"Notas de 2 reais: \",int(notas2))\n",
        "\n",
        "if (total < 2 and total >= 1):\n",
        "  moedas1 = total\n",
        "  total = total % 1\n",
        "  print(\"Moedas de 1 real reais: \",int(moedas1))\n",
        "\n",
        "if (total < 1 and total >= 0.5):\n",
        "  moedas50 = total / 0.5\n",
        "  total = total % 0.5\n",
        "  print(\"Moedas de 50 centavos: \",int(moedas50))\n",
        "\n",
        "if (total < 0.5 and total >= 0.25):\n",
        "  moedas25 = total / 0.25\n",
        "  total = total % 0.25\n",
        "  print(\"Moedas de 25 centavos: \",int(moedas25)) \n",
        "  \n",
        "if (total < 0.25 and total >= 0.10):\n",
        "  moedas10 = total / 0.10\n",
        "  total = total % 0.10\n",
        "  print(\"Moedas de 10 centavos: \",int(moedas10))\n",
        "\n",
        "if (total < 0.10 and total >= 0.05):\n",
        "  moedas5 = total / 0.05\n",
        "  total = total % 0.05\n",
        "  print(\"Moedas de 5 centavos: \",int(moedas5))\n",
        "  \n",
        "if (total < 0.05 and total >= 0.01):\n",
        "  moedas1 = total / 0.01\n",
        "  total = total % 0.01\n",
        "  print(\"Moedas de 1 centavo: \",int(moedas1))\n",
        "\n",
        "          \n",
        "\n",
        "    \n",
        "\n",
        "    \n"
      ],
      "execution_count": null,
      "outputs": [
        {
          "output_type": "stream",
          "name": "stdout",
          "text": [
            "Informe o valor: 3000.08\n",
            "Notas de 100 reais:  30\n",
            "Moedas de 5 centavos:  1\n",
            "Moedas de 1 centavo:  2\n"
          ]
        }
      ]
    },
    {
      "cell_type": "markdown",
      "metadata": {
        "id": "9HnSaK6A3bKS"
      },
      "source": [
        "### Problema 3\n",
        "\n",
        "---\n",
        "\n"
      ]
    },
    {
      "cell_type": "markdown",
      "metadata": {
        "id": "7b8xDUz-3n9g"
      },
      "source": [
        "Faça um algoritmo que verifique e escreva todos os números inteiros perfeitos entre 1 a 10000.\n",
        "\n",
        "*Um número se diz perfeito se é igual à soma de seus divisores próprios. Divisores próprios de um número positivo N são todos os divisores inteiros positivos de N exceto o próprio N. Por exemplo, o número 6, seus divisores próprios são 1, 2 e 3, cuja soma é igual à 6. 28 também é um número perfeito, já que é divisível por 1, 2, 4, 7, 14*\n",
        "\n",
        "\n",
        "\n"
      ]
    },
    {
      "cell_type": "code",
      "metadata": {
        "id": "8osoQjQn3Stz",
        "colab": {
          "base_uri": "https://localhost:8080/"
        },
        "outputId": "6e3812f4-a4e1-43df-f9ca-e0c7cf0b7b0d"
      },
      "source": [
        "print(\"Números perfeitos: \")\n",
        "for i in range(1,1000):\n",
        "  for divisor in range(1,i):\n",
        "    if (i % divisor == 0):\n",
        "      soma += divisor\n",
        "  if (i == soma):\n",
        "    print(soma)\n",
        "  soma = 0\n"
      ],
      "execution_count": 56,
      "outputs": [
        {
          "output_type": "stream",
          "name": "stdout",
          "text": [
            "Números perfeitos: \n",
            "6\n",
            "28\n",
            "496\n"
          ]
        }
      ]
    },
    {
      "cell_type": "markdown",
      "metadata": {
        "id": "eXl63bNG9puV"
      },
      "source": [
        "### Problema 4\n",
        "\n",
        "---\n"
      ]
    },
    {
      "cell_type": "markdown",
      "metadata": {
        "id": "iNQsIm-L9rEP"
      },
      "source": [
        "A cifra de César é uma cifra de substituição simples em que cada letra do texto é substituída por outra letra movendo `n` posições no alfabeto. Por exemplo, suponha que o texto simples de entrada seja o seguinte:\n",
        "\n",
        "`abcd xyz bola`\n",
        "\n",
        "Se o valor de deslocamento, n, for 4, o texto criptografado seria o seguinte:\n",
        "\n",
        "`efgh bcd fspe`\n",
        "\n",
        "Escreva uma programa que tenha uma mensagem de texto simples e um número de letras para deslocar na cifra. Ela deve fazer uma string criptografada com todas as letras transformadas e toda a pontuação e espaço em branco permanecendo inalterados.\n",
        "\n",
        "Nota: Você pode presumir que o texto simples é todo em minúsculas, exceto para espaços em branco e pontuação.\n",
        "Podem criam uma string `alfabeto=\"abcdefghijklmnopqrstuvwxyz\"` para auxiliar."
      ]
    },
    {
      "cell_type": "code",
      "metadata": {
        "id": "kc6qsUUU-tde",
        "colab": {
          "base_uri": "https://localhost:8080/"
        },
        "outputId": "f2aac390-4beb-4d04-c549-5a6ff9302abc"
      },
      "source": [
        "alfabeto='abcdefghijklmnopqrstuvwxyz'\n",
        "\n",
        "\n",
        "frase = input(\"Entre com a frase: \")\n",
        "desloc = int(input(\"Informe o valor de deslocamento: \"))\n",
        "\n",
        "v = ''\n",
        "i = 0\n",
        "m = 0\n",
        "for i in frase:\n",
        "  if (i in alfabeto):\n",
        "    i_indice = alfabeto.index(i)\n",
        "    m = (i_indice+desloc) % len(alfabeto)\n",
        "    v += alfabeto[m]\n",
        "  else:\n",
        "    v += i\n",
        "print()\n",
        "print(v)"
      ],
      "execution_count": 43,
      "outputs": [
        {
          "output_type": "stream",
          "name": "stdout",
          "text": [
            "Entre com a frase: joao pedro lang\n",
            "Informe o valor de deslocamento: 2\n",
            "\n",
            "lqcq rgftq ncpi\n"
          ]
        }
      ]
    },
    {
      "cell_type": "code",
      "source": [
        ""
      ],
      "metadata": {
        "id": "XBVI_LT5KIUq"
      },
      "execution_count": null,
      "outputs": []
    }
  ]
}